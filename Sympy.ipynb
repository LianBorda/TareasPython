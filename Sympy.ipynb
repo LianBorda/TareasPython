{
  "nbformat": 4,
  "nbformat_minor": 0,
  "metadata": {
    "colab": {
      "name": "Copia de Sympy.ipynb",
      "provenance": [],
      "collapsed_sections": [],
      "include_colab_link": true
    },
    "kernelspec": {
      "name": "python3",
      "display_name": "Python 3"
    },
    "language_info": {
      "name": "python"
    }
  },
  "cells": [
    {
      "cell_type": "markdown",
      "metadata": {
        "id": "view-in-github",
        "colab_type": "text"
      },
      "source": [
        "<a href=\"https://colab.research.google.com/github/LianBorda/TareasPython/blob/main/Sympy.ipynb\" target=\"_parent\"><img src=\"https://colab.research.google.com/assets/colab-badge.svg\" alt=\"Open In Colab\"/></a>"
      ]
    },
    {
      "cell_type": "markdown",
      "metadata": {
        "id": "oOFs-_4lhi2t"
      },
      "source": [
        "\n",
        "# Solucion Ejercicios\n",
        "*Lian Camilo Borda 20191005174*\n",
        "\n",
        "1.)hacer la siguiente derivada:\n",
        "- $$\\frac{d^2y}{dx^2}=  2x^4+ 34x^3 + 23$$ \n",
        "\n"
      ]
    },
    {
      "cell_type": "code",
      "metadata": {
        "id": "Nvs_Tm2lhLO0"
      },
      "source": [
        "from sympy import init_session\n",
        "init_session(use_latex=True)"
      ],
      "execution_count": null,
      "outputs": []
    },
    {
      "cell_type": "code",
      "metadata": {
        "id": "avC3fl-IrHQq",
        "colab": {
          "base_uri": "https://localhost:8080/",
          "height": 38
        },
        "outputId": "796b2e22-309c-47a8-fc4e-1b31b82c7c21"
      },
      "source": [
        "expression=2*x**4+34*x**3+23\n",
        "expression"
      ],
      "execution_count": 26,
      "outputs": [
        {
          "output_type": "execute_result",
          "data": {
            "image/png": "[encoded data removed]",
            "text/latex": "$\\displaystyle 2 x^{4} + 34 x^{3} + 23$",
            "text/plain": [
              "   4       3     \n",
              "2⋅x  + 34⋅x  + 23"
            ]
          },
          "metadata": {},
          "execution_count": 26
        }
      ]
    },
    {
      "cell_type": "code",
      "metadata": {
        "colab": {
          "base_uri": "https://localhost:8080/",
          "height": 54
        },
        "id": "Qqb9UzSui1oE",
        "outputId": "1a8d412f-2603-4224-e3d2-17d200703e18"
      },
      "source": [
        "Derivative(expression,x,2)"
      ],
      "execution_count": 27,
      "outputs": [
        {
          "output_type": "execute_result",
          "data": {
            "image/png": "[encoded data removed]",
            "text/latex": "$\\displaystyle \\frac{d^{2}}{d x^{2}} \\left(2 x^{4} + 34 x^{3} + 23\\right)$",
            "text/plain": [
              "  2                   \n",
              " d ⎛   4       3     ⎞\n",
              "───⎝2⋅x  + 34⋅x  + 23⎠\n",
              "  2                   \n",
              "dx                    "
            ]
          },
          "metadata": {},
          "execution_count": 27
        }
      ]
    },
    {
      "cell_type": "code",
      "metadata": {
        "colab": {
          "base_uri": "https://localhost:8080/",
          "height": 38
        },
        "id": "K7s3Ke20i5WB",
        "outputId": "a653111c-770f-4abf-9684-40aa81d8723f"
      },
      "source": [
        "expression.diff(x,2)"
      ],
      "execution_count": 28,
      "outputs": [
        {
          "output_type": "execute_result",
          "data": {
            "image/png": "[encoded data removed]",
            "text/latex": "$\\displaystyle 12 x \\left(2 x + 17\\right)$",
            "text/plain": [
              "12⋅x⋅(2⋅x + 17)"
            ]
          },
          "metadata": {},
          "execution_count": 28
        }
      ]
    },
    {
      "cell_type": "markdown",
      "metadata": {
        "id": "bL4H7d-CjS8y"
      },
      "source": [
        "  #2 \n",
        "$$\\frac{dy}{dx}= xln(x) $$  \n"
      ]
    },
    {
      "cell_type": "code",
      "metadata": {
        "id": "v6r9jq3nrON-",
        "colab": {
          "base_uri": "https://localhost:8080/",
          "height": 38
        },
        "outputId": "e149354a-396a-4b68-a254-0f435c7dae0b"
      },
      "source": [
        "expression=x*log(x)\n",
        "expression"
      ],
      "execution_count": 75,
      "outputs": [
        {
          "output_type": "execute_result",
          "data": {
            "image/png": "[encoded data removed]",
            "text/latex": "$\\displaystyle x \\log{\\left(x \\right)}$",
            "text/plain": [
              "x⋅log(x)"
            ]
          },
          "metadata": {},
          "execution_count": 75
        }
      ]
    },
    {
      "cell_type": "code",
      "metadata": {
        "id": "p9OAwK2Hrf_d",
        "colab": {
          "base_uri": "https://localhost:8080/",
          "height": 52
        },
        "outputId": "1a784baa-f2c4-43a3-8ddd-a4a8e1bb8d64"
      },
      "source": [
        "Derivative(expression,x)"
      ],
      "execution_count": 76,
      "outputs": [
        {
          "output_type": "execute_result",
          "data": {
            "image/png": "[encoded data removed]",
            "text/latex": "$\\displaystyle \\frac{d}{d x} x \\log{\\left(x \\right)}$",
            "text/plain": [
              "d           \n",
              "──(x⋅log(x))\n",
              "dx          "
            ]
          },
          "metadata": {},
          "execution_count": 76
        }
      ]
    },
    {
      "cell_type": "code",
      "metadata": {
        "colab": {
          "base_uri": "https://localhost:8080/",
          "height": 38
        },
        "id": "G08iC1Yhkuqa",
        "outputId": "ef3f85b9-8ccf-4d3f-d75a-2db2baf19bdd"
      },
      "source": [
        "expression.diff(x)"
      ],
      "execution_count": 80,
      "outputs": [
        {
          "output_type": "execute_result",
          "data": {
            "image/png": "[encoded data removed]",
            "text/latex": "$\\displaystyle \\log{\\left(x \\right)} + 1$",
            "text/plain": [
              "log(x) + 1"
            ]
          },
          "metadata": {},
          "execution_count": 80
        }
      ]
    },
    {
      "cell_type": "markdown",
      "metadata": {
        "id": "k48F22MRVPsj"
      },
      "source": [
        "\n",
        "2.)Hacer estos siguientes ejercicios:  \n",
        "- expandir:$$ cos(\\frac{x^4}{y+1})$$  \n"
      ]
    },
    {
      "cell_type": "code",
      "metadata": {
        "colab": {
          "base_uri": "https://localhost:8080/",
          "height": 58
        },
        "id": "IsCxsa-bl2Js",
        "outputId": "f54a64c5-6eb7-4524-e897-b25dcc5a1694"
      },
      "source": [
        "expresion=cos(x**4/(y+1))\n",
        "expresion"
      ],
      "execution_count": 35,
      "outputs": [
        {
          "output_type": "execute_result",
          "data": {
            "image/png": "[encoded data removed]",
            "text/latex": "$\\displaystyle \\cos{\\left(\\frac{x^{4}}{y + 1} \\right)}$",
            "text/plain": [
              "   ⎛   4 ⎞\n",
              "   ⎜  x  ⎟\n",
              "cos⎜─────⎟\n",
              "   ⎝y + 1⎠"
            ]
          },
          "metadata": {},
          "execution_count": 35
        }
      ]
    },
    {
      "cell_type": "code",
      "metadata": {
        "colab": {
          "base_uri": "https://localhost:8080/",
          "height": 58
        },
        "id": "OlDlBpCel-tI",
        "outputId": "b77c17db-cf69-4514-e820-87ba8cc701c0"
      },
      "source": [
        "expand(expresion, trig=True)"
      ],
      "execution_count": 39,
      "outputs": [
        {
          "output_type": "execute_result",
          "data": {
            "image/png": "[encoded data removed]",
            "text/latex": "$\\displaystyle \\cos{\\left(\\frac{x^{4}}{y + 1} \\right)}$",
            "text/plain": [
              "   ⎛   4 ⎞\n",
              "   ⎜  x  ⎟\n",
              "cos⎜─────⎟\n",
              "   ⎝y + 1⎠"
            ]
          },
          "metadata": {},
          "execution_count": 39
        }
      ]
    },
    {
      "cell_type": "markdown",
      "metadata": {
        "id": "dKYxBdugl0xR"
      },
      "source": [
        "- factorizar : $$ x^2+6x+9 $$  \n"
      ]
    },
    {
      "cell_type": "code",
      "metadata": {
        "id": "Po8deSTwiwQB",
        "colab": {
          "base_uri": "https://localhost:8080/",
          "height": 38
        },
        "outputId": "41e850ea-d6c8-4a4c-ae38-c6e2e4f10d40"
      },
      "source": [
        "ex=x**2+6*x+9\n",
        "ex"
      ],
      "execution_count": 40,
      "outputs": [
        {
          "output_type": "execute_result",
          "data": {
            "image/png": "[encoded data removed]",
            "text/latex": "$\\displaystyle x^{2} + 6 x + 9$",
            "text/plain": [
              " 2          \n",
              "x  + 6⋅x + 9"
            ]
          },
          "metadata": {},
          "execution_count": 40
        }
      ]
    },
    {
      "cell_type": "code",
      "metadata": {
        "colab": {
          "base_uri": "https://localhost:8080/",
          "height": 39
        },
        "id": "XOmaXa9jmrDv",
        "outputId": "3ef823df-9aa0-452e-b904-3353f78f8490"
      },
      "source": [
        "factor(ex)"
      ],
      "execution_count": 41,
      "outputs": [
        {
          "output_type": "execute_result",
          "data": {
            "image/png": "[encoded data removed]",
            "text/latex": "$\\displaystyle \\left(x + 3\\right)^{2}$",
            "text/plain": [
              "       2\n",
              "(x + 3) "
            ]
          },
          "metadata": {},
          "execution_count": 41
        }
      ]
    },
    {
      "cell_type": "markdown",
      "metadata": {
        "id": "4XFeyoG9mj5K"
      },
      "source": [
        "3.) de la siguiente integral:\n",
        "$$\\int (2x+1)(x^2+x+1)dx$$  \n",
        "- dejarla explicita\n",
        "- hacer la integral primitiva\n",
        "- evaluarla\n"
      ]
    },
    {
      "cell_type": "code",
      "metadata": {
        "colab": {
          "base_uri": "https://localhost:8080/",
          "height": 38
        },
        "id": "cuklW-ALm1kf",
        "outputId": "3a56418d-af77-4cb2-857a-ec59eea636f7"
      },
      "source": [
        "inte=(2*x+1)*(x**2+x+1)\n",
        "inte"
      ],
      "execution_count": 42,
      "outputs": [
        {
          "output_type": "execute_result",
          "data": {
            "image/png": "[encoded data removed]",
            "text/latex": "$\\displaystyle \\left(2 x + 1\\right) \\left(x^{2} + x + 1\\right)$",
            "text/plain": [
              "          ⎛ 2        ⎞\n",
              "(2⋅x + 1)⋅⎝x  + x + 1⎠"
            ]
          },
          "metadata": {},
          "execution_count": 42
        }
      ]
    },
    {
      "cell_type": "code",
      "metadata": {
        "colab": {
          "base_uri": "https://localhost:8080/",
          "height": 55
        },
        "id": "ubKGtQUfnA-b",
        "outputId": "eeb6bcdc-f9e4-4f5a-f5af-f7484442d175"
      },
      "source": [
        "Integral(inte)"
      ],
      "execution_count": 43,
      "outputs": [
        {
          "output_type": "execute_result",
          "data": {
            "image/png": "[encoded data removed]",
            "text/latex": "$\\displaystyle \\int \\left(2 x + 1\\right) \\left(x^{2} + x + 1\\right)\\, dx$",
            "text/plain": [
              "⌠                          \n",
              "⎮           ⎛ 2        ⎞   \n",
              "⎮ (2⋅x + 1)⋅⎝x  + x + 1⎠ dx\n",
              "⌡                          "
            ]
          },
          "metadata": {},
          "execution_count": 43
        }
      ]
    },
    {
      "cell_type": "code",
      "metadata": {
        "colab": {
          "base_uri": "https://localhost:8080/",
          "height": 54
        },
        "id": "oICu0MXsnFip",
        "outputId": "0dae9de2-5bdf-465b-8df6-e7aa4f7c5bd7"
      },
      "source": [
        "integrate(inte)"
      ],
      "execution_count": 44,
      "outputs": [
        {
          "output_type": "execute_result",
          "data": {
            "image/png": "[encoded data removed]",
            "text/latex": "$\\displaystyle \\frac{x^{4}}{2} + x^{3} + \\frac{3 x^{2}}{2} + x$",
            "text/plain": [
              " 4           2    \n",
              "x     3   3⋅x     \n",
              "── + x  + ──── + x\n",
              "2          2      "
            ]
          },
          "metadata": {},
          "execution_count": 44
        }
      ]
    },
    {
      "cell_type": "code",
      "metadata": {
        "colab": {
          "base_uri": "https://localhost:8080/",
          "height": 37
        },
        "id": "kpXlY1w3nrIB",
        "outputId": "92c35616-e073-4aca-d657-2911dd04a965"
      },
      "source": [
        "integrate(inte,(x,0,20))"
      ],
      "execution_count": 50,
      "outputs": [
        {
          "output_type": "execute_result",
          "data": {
            "image/png": "[encoded data removed]",
            "text/latex": "$\\displaystyle 88620$",
            "text/plain": [
              "88620"
            ]
          },
          "metadata": {},
          "execution_count": 50
        }
      ]
    },
    {
      "cell_type": "code",
      "metadata": {
        "id": "md3JzJZVi-qM",
        "colab": {
          "base_uri": "https://localhost:8080/",
          "height": 37
        },
        "outputId": "8b78a65d-a6c7-4079-a3e0-328948410a92"
      },
      "source": [
        "_.evalf()"
      ],
      "execution_count": 51,
      "outputs": [
        {
          "output_type": "execute_result",
          "data": {
            "image/png": "[encoded data removed]",
            "text/latex": "$\\displaystyle 88620.0$",
            "text/plain": [
              "88620.0000000000"
            ]
          },
          "metadata": {},
          "execution_count": 51
        }
      ]
    },
    {
      "cell_type": "markdown",
      "metadata": {
        "id": "LjIR0rOkpNv_"
      },
      "source": [
        "4.)de la siguiente matrix\n",
        " $$\n",
        "\\left(\\begin{array}{cc} \n",
        "12 & -34 & -45\\\\\n",
        "-34 & -23 & 100\\\\\n",
        "45 & 12 & 23\n",
        "\\end{array}\\right)\n",
        "$$\n",
        "- encontrar la inversa\n",
        "-  encontrar el determinante\n",
        "-  encontrar  la transpuesta"
      ]
    },
    {
      "cell_type": "code",
      "metadata": {
        "colab": {
          "base_uri": "https://localhost:8080/",
          "height": 78
        },
        "id": "fz_87FuQpR6f",
        "outputId": "b0ace14c-5686-40bf-a3a0-c447909fff08"
      },
      "source": [
        "m=Matrix([[12, -34, -45], [-34,-23,100], [45,12,23] ])\n",
        "m"
      ],
      "execution_count": 64,
      "outputs": [
        {
          "output_type": "execute_result",
          "data": {
            "text/latex": "$\\displaystyle \\left[\\begin{matrix}12 & -34 & -45\\\\-34 & -23 & 100\\\\45 & 12 & 23\\end{matrix}\\right]$",
            "text/plain": [
              "⎡12   -34  -45⎤\n",
              "⎢             ⎥\n",
              "⎢-34  -23  100⎥\n",
              "⎢             ⎥\n",
              "⎣45   12   23 ⎦"
            ]
          },
          "metadata": {},
          "execution_count": 64
        }
      ]
    },
    {
      "cell_type": "code",
      "metadata": {
        "colab": {
          "base_uri": "https://localhost:8080/",
          "height": 78
        },
        "id": "4X6FA4Pmp9Cf",
        "outputId": "bf3c8d74-28f7-4222-b2c5-8a25b5913b02"
      },
      "source": [
        "m.inv()"
      ],
      "execution_count": 65,
      "outputs": [
        {
          "output_type": "execute_result",
          "data": {
            "text/latex": "$\\displaystyle \\left[\\begin{matrix}\\frac{91}{12029} & - \\frac{242}{228551} & \\frac{4435}{228551}\\\\- \\frac{278}{12029} & - \\frac{2301}{228551} & - \\frac{330}{228551}\\\\- \\frac{33}{12029} & \\frac{1674}{228551} & \\frac{1432}{228551}\\end{matrix}\\right]$",
            "text/plain": [
              "⎡  91   -242     4435 ⎤\n",
              "⎢─────  ──────  ──────⎥\n",
              "⎢12029  228551  228551⎥\n",
              "⎢                     ⎥\n",
              "⎢-278   -2301   -330  ⎥\n",
              "⎢─────  ──────  ──────⎥\n",
              "⎢12029  228551  228551⎥\n",
              "⎢                     ⎥\n",
              "⎢ -33    1674    1432 ⎥\n",
              "⎢─────  ──────  ──────⎥\n",
              "⎣12029  228551  228551⎦"
            ]
          },
          "metadata": {},
          "execution_count": 65
        }
      ]
    },
    {
      "cell_type": "code",
      "metadata": {
        "colab": {
          "base_uri": "https://localhost:8080/",
          "height": 37
        },
        "id": "m-H_06B8qEbH",
        "outputId": "9098af65-3950-4335-9808-37d4d6315d39"
      },
      "source": [
        "m.det()"
      ],
      "execution_count": 66,
      "outputs": [
        {
          "output_type": "execute_result",
          "data": {
            "image/png": "[encoded data removed]",
            "text/latex": "$\\displaystyle -228551$",
            "text/plain": [
              "-228551"
            ]
          },
          "metadata": {},
          "execution_count": 66
        }
      ]
    },
    {
      "cell_type": "code",
      "metadata": {
        "colab": {
          "base_uri": "https://localhost:8080/",
          "height": 78
        },
        "id": "yi4dQSQgqKk2",
        "outputId": "ff25f552-9985-4672-ad05-194ea99f1a3a"
      },
      "source": [
        "m.T"
      ],
      "execution_count": 68,
      "outputs": [
        {
          "output_type": "execute_result",
          "data": {
            "text/latex": "$\\displaystyle \\left[\\begin{matrix}12 & -34 & 45\\\\-34 & -23 & 12\\\\-45 & 100 & 23\\end{matrix}\\right]$",
            "text/plain": [
              "⎡12   -34  45⎤\n",
              "⎢            ⎥\n",
              "⎢-34  -23  12⎥\n",
              "⎢            ⎥\n",
              "⎣-45  100  23⎦"
            ]
          },
          "metadata": {},
          "execution_count": 68
        }
      ]
    }
  ]
}