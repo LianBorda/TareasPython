{
  "nbformat": 4,
  "nbformat_minor": 0,
  "metadata": {
    "colab": {
      "name": "Copia de GpioZeroTarea.ipynb",
      "provenance": [],
      "collapsed_sections": [],
      "include_colab_link": true
    },
    "kernelspec": {
      "name": "python3",
      "display_name": "Python 3"
    },
    "language_info": {
      "name": "python"
    }
  },
  "cells": [
    {
      "cell_type": "markdown",
      "metadata": {
        "id": "view-in-github",
        "colab_type": "text"
      },
      "source": [
        "<a href=\"https://colab.research.google.com/github/LianBorda/TareasPython/blob/main/TareaGpiozero.ipynb\" target=\"_parent\"><img src=\"https://colab.research.google.com/assets/colab-badge.svg\" alt=\"Open In Colab\"/></a>"
      ]
    },
    {
      "cell_type": "markdown",
      "metadata": {
        "id": "_Fwd_xSYPVjy"
      },
      "source": [
        "# Lian Camilo Borda \n",
        "*cod: 20191005174*\n"
      ]
    },
    {
      "cell_type": "code",
      "metadata": {
        "id": "AnrxIeKQBZ7d"
      },
      "source": [
        "from gpiozero import Button\n",
        "from gpiozero import LED\n",
        "from signal import pause\n",
        "\n",
        "btnR = Button(2)\n",
        "btnG = Button(3)\n",
        "btnB = Button(4)\n",
        "ledRojo = LED(14,initial_value = False)\n",
        "ledVerde = LED(15,initial_value = False)\n",
        "ledAzul = LED(18,initial_value = False)\n",
        "\n",
        "def cambio_estadoR():\n",
        "  ledRojo.toggle()\n",
        "\n",
        "def cambio_estadoG():\n",
        "  ledVerde.toggle()\n",
        "\n",
        "def cambio_estadoB():\n",
        "  ledAzul.toggle()\n",
        "\n",
        "\n",
        "def parpR():\n",
        "  ledRojo.blink(on_time = 1.5, off_time = 1.5, n = 10)\n",
        "\n",
        "def parpG():\n",
        "  ledVerde.blink(on_time = 1.5, off_time = 1.5, n = 10)\n",
        "\n",
        "def parpB():\n",
        "  ledAzul.blink(on_time = 1.5, off_time = 1.5, n = 10)\n",
        "\n",
        "try:\n",
        "\n",
        "  btnR.when_pressed = cambio_estadoR\n",
        "  btnG.when_pressed = cambio_estadoG\n",
        "  btnB.when_pressed = cambio_estadoB\n",
        "  btnR.when_held = parpR\n",
        "  btnG.when_held = parpG\n",
        "  btnB.when_held = parpB\n",
        "  \n",
        "  pause()\n",
        "\n",
        "finally:\n",
        "  pass"
      ],
      "execution_count": null,
      "outputs": []
    }
  ]
}